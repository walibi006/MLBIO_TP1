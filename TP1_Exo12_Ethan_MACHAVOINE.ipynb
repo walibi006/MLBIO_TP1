{
 "cells": [
  {
   "cell_type": "markdown",
   "metadata": {},
   "source": [
    "# Exercise 12: Tester des modèles de classification comme RadomForest, ExtraTrees, GradientBoosting"
   ]
  },
  {
   "cell_type": "markdown",
   "metadata": {},
   "source": [
    "## Part 1: Récupération des fonctions des exercices précédents"
   ]
  },
  {
   "cell_type": "code",
   "execution_count": 7,
   "metadata": {},
   "outputs": [],
   "source": [
    "import numpy as np\n",
    "import matplotlib.pyplot as plt\n",
    "import pandas as pd\n",
    "import pywt\n",
    "from sklearn.preprocessing import MinMaxScaler\n",
    "from sklearn.model_selection import train_test_split\n",
    "from scipy.stats import entropy"
   ]
  },
  {
   "cell_type": "code",
   "execution_count": 2,
   "metadata": {},
   "outputs": [],
   "source": [
    "def calculate_stats_features(x):\n",
    "    return [np.max(x), np.min(x), np.mean(x), np.median(x), np.var(x), np.std(x), np.percentile(x, 25), np.percentile(x, 75)]"
   ]
  },
  {
   "cell_type": "code",
   "execution_count": 3,
   "metadata": {},
   "outputs": [],
   "source": [
    "def calculate_zero_crossing(x):\n",
    "    \n",
    "    diff_signal = np.diff(np.signbit(x).astype(int))\n",
    "    \n",
    "    zero_crossing_indices = np.nonzero(diff_signal)[0]\n",
    "    \n",
    "    num_zero_crossings = len(zero_crossing_indices)\n",
    "    \n",
    "    return num_zero_crossings"
   ]
  },
  {
   "cell_type": "code",
   "execution_count": 4,
   "metadata": {},
   "outputs": [],
   "source": [
    "def calculate_rms(x):\n",
    "    squared_signal = np.square(x)\n",
    "\n",
    "    rms = np.sqrt(np.nanmean(squared_signal))\n",
    "\n",
    "    return rms"
   ]
  },
  {
   "cell_type": "code",
   "execution_count": 5,
   "metadata": {},
   "outputs": [],
   "source": [
    "def calculate_entropy(x):\n",
    "    \n",
    "    unique_values, value_counts = np.unique(x, return_counts=True)\n",
    "    probabilities = value_counts / len(x)\n",
    "\n",
    "    entropy_value = entropy(probabilities, base=2)\n",
    "\n",
    "    return entropy_value"
   ]
  },
  {
   "cell_type": "code",
   "execution_count": 6,
   "metadata": {},
   "outputs": [],
   "source": [
    "def get_features(x):\n",
    "    stats_features = calculate_stats_features(x)\n",
    "\n",
    "    zero_crossing = calculate_zero_crossing(x)\n",
    "\n",
    "    rms = calculate_rms(x)\n",
    "\n",
    "    entropy = calculate_entropy(x)\n",
    "\n",
    "    features = stats_features + [zero_crossing, rms, entropy]\n",
    "\n",
    "    return features"
   ]
  },
  {
   "cell_type": "code",
   "execution_count": 8,
   "metadata": {},
   "outputs": [],
   "source": [
    "def extract_features_of_signal(x, waveletname, level):\n",
    "    coeff_dwt = pywt.wavedec(x, waveletname, level=level)\n",
    "\n",
    "    all_features = []\n",
    "\n",
    "    for coeff_set in coeff_dwt:\n",
    "        features = get_features(coeff_set)\n",
    "\n",
    "        all_features.extend(features)\n",
    "\n",
    "    return all_features"
   ]
  },
  {
   "cell_type": "code",
   "execution_count": 9,
   "metadata": {},
   "outputs": [],
   "source": [
    "df = pd.read_csv('ecg.csv')\n",
    "\n",
    "y = df['1']\n",
    "\n",
    "df = df.drop(columns=['0', '1'])\n",
    "\n",
    "df_features = df.apply(lambda row: extract_features_of_signal(row, 'db4', 6), axis=1)\n",
    "\n",
    "df_features = pd.DataFrame(df_features.tolist(), columns=[f'{i}' for i in range(len(df_features.iloc[0]))]).astype('float')"
   ]
  },
  {
   "cell_type": "code",
   "execution_count": 10,
   "metadata": {},
   "outputs": [],
   "source": [
    "scaler = MinMaxScaler(feature_range=(-1, 1))\n",
    "\n",
    "df_scaled = scaler.fit_transform(df_features)\n",
    "\n",
    "df_train, df_test, y_train, y_test = train_test_split(df_scaled, y, test_size=0.4, random_state=9)"
   ]
  },
  {
   "cell_type": "markdown",
   "metadata": {},
   "source": [
    "## Part 2: Test RandomForest"
   ]
  },
  {
   "cell_type": "code",
   "execution_count": 11,
   "metadata": {},
   "outputs": [
    {
     "name": "stdout",
     "output_type": "stream",
     "text": [
      "Score sur l'ensemble d'entraînement (Random Forest) : 1.0\n",
      "Score sur l'ensemble de test (Random Forest) : 1.0\n"
     ]
    }
   ],
   "source": [
    "from sklearn.ensemble import RandomForestClassifier\n",
    "from sklearn.metrics import accuracy_score\n",
    "\n",
    "rf = RandomForestClassifier(random_state=42)\n",
    "rf.fit(df_train, y_train)\n",
    "\n",
    "y_train_pred = rf.predict(df_train)\n",
    "y_test_pred = rf.predict(df_test)\n",
    "\n",
    "rf_train_score = accuracy_score(y_train, y_train_pred)\n",
    "rf_test_score = accuracy_score(y_test, y_test_pred)\n",
    "\n",
    "print(\"Score sur l'ensemble d'entraînement (Random Forest) :\", rf_train_score)\n",
    "print(\"Score sur l'ensemble de test (Random Forest) :\", rf_test_score)\n"
   ]
  },
  {
   "cell_type": "markdown",
   "metadata": {},
   "source": [
    "## Part 3: Test ExtraTrees"
   ]
  },
  {
   "cell_type": "code",
   "execution_count": 12,
   "metadata": {},
   "outputs": [
    {
     "name": "stdout",
     "output_type": "stream",
     "text": [
      "Score sur l'ensemble d'entraînement (Extra Trees) : 1.0\n",
      "Score sur l'ensemble de test (Extra Trees) : 1.0\n"
     ]
    }
   ],
   "source": [
    "from sklearn.ensemble import ExtraTreesClassifier\n",
    "\n",
    "et = ExtraTreesClassifier(random_state=9)\n",
    "et.fit(df_train, y_train)\n",
    "\n",
    "y_train_pred = et.predict(df_train)\n",
    "y_test_pred = et.predict(df_test)\n",
    "\n",
    "et_train_score = accuracy_score(y_train, y_train_pred)\n",
    "et_test_score = accuracy_score(y_test, y_test_pred)\n",
    "\n",
    "print(\"Score sur l'ensemble d'entraînement (Extra Trees) :\", et_train_score)\n",
    "print(\"Score sur l'ensemble de test (Extra Trees) :\", et_test_score)\n"
   ]
  },
  {
   "cell_type": "markdown",
   "metadata": {},
   "source": [
    "## Part 4: Test GradientBoosting"
   ]
  },
  {
   "cell_type": "code",
   "execution_count": 13,
   "metadata": {},
   "outputs": [
    {
     "name": "stdout",
     "output_type": "stream",
     "text": [
      "Score sur l'ensemble d'entraînement (Gradient Boosting) : 1.0\n",
      "Score sur l'ensemble de test (Gradient Boosting) : 1.0\n"
     ]
    }
   ],
   "source": [
    "from sklearn.ensemble import GradientBoostingClassifier\n",
    "from sklearn.metrics import accuracy_score\n",
    "\n",
    "gb = GradientBoostingClassifier(random_state=9)\n",
    "gb.fit(df_train, y_train)\n",
    "\n",
    "y_train_pred = gb.predict(df_train)\n",
    "y_test_pred = gb.predict(df_test)\n",
    "\n",
    "gb_train_score = accuracy_score(y_train, y_train_pred)\n",
    "gb_test_score = accuracy_score(y_test, y_test_pred)\n",
    "\n",
    "print(\"Score sur l'ensemble d'entraînement (Gradient Boosting) :\", gb_train_score)\n",
    "print(\"Score sur l'ensemble de test (Gradient Boosting) :\", gb_test_score)\n"
   ]
  }
 ],
 "metadata": {
  "kernelspec": {
   "display_name": ".venv",
   "language": "python",
   "name": "python3"
  },
  "language_info": {
   "codemirror_mode": {
    "name": "ipython",
    "version": 3
   },
   "file_extension": ".py",
   "mimetype": "text/x-python",
   "name": "python",
   "nbconvert_exporter": "python",
   "pygments_lexer": "ipython3",
   "version": "3.11.3"
  },
  "orig_nbformat": 4
 },
 "nbformat": 4,
 "nbformat_minor": 2
}
